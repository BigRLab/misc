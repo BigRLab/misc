{
 "cells": [
  {
   "cell_type": "code",
   "execution_count": 1,
   "metadata": {
    "collapsed": true
   },
   "outputs": [],
   "source": [
    "import numpy as np\n",
    "\n",
    "from lightfm.datasets import fetch_movielens\n",
    "\n",
    "movielens = fetch_movielens()"
   ]
  },
  {
   "cell_type": "code",
   "execution_count": 2,
   "metadata": {
    "collapsed": false
   },
   "outputs": [
    {
     "name": "stdout",
     "output_type": "stream",
     "text": [
      "('test', <class 'scipy.sparse.coo.coo_matrix'>, (943, 1682))\n",
      "('item_features', <class 'scipy.sparse.csr.csr_matrix'>, (1682, 1682))\n",
      "('train', <class 'scipy.sparse.coo.coo_matrix'>, (943, 1682))\n",
      "('item_labels', <type 'numpy.ndarray'>, (1682,))\n",
      "('item_feature_labels', <type 'numpy.ndarray'>, (1682,))\n"
     ]
    }
   ],
   "source": [
    "for key, value in movielens.items():\n",
    "    print(key, type(value), value.shape)"
   ]
  },
  {
   "cell_type": "code",
   "execution_count": 3,
   "metadata": {
    "collapsed": true
   },
   "outputs": [],
   "source": [
    "train = movielens['train']\n",
    "test = movielens['test']"
   ]
  },
  {
   "cell_type": "code",
   "execution_count": 42,
   "metadata": {
    "collapsed": false
   },
   "outputs": [
    {
     "name": "stdout",
     "output_type": "stream",
     "text": [
      "Precision: train 0.70, test 0.10.\n",
      "AUC: train 0.96, test 0.91.\n"
     ]
    }
   ],
   "source": [
    "from lightfm import LightFM\n",
    "from lightfm.evaluation import precision_at_k\n",
    "from lightfm.evaluation import auc_score\n",
    "\n",
    "model = LightFM(learning_rate=0.05, loss='warp', no_components=32, item_alpha=0.0001)\n",
    "\n",
    "model.fit_partial(train, item_features=movielens['item_features'], epochs=20 )\n",
    "\n",
    "train_precision = precision_at_k(model, train, k=10).mean()\n",
    "test_precision = precision_at_k(model, test, k=10).mean()\n",
    "\n",
    "train_auc = auc_score(model, train).mean()\n",
    "test_auc = auc_score(model, test).mean()\n",
    "\n",
    "print('Precision: train %.2f, test %.2f.' % (train_precision, test_precision))\n",
    "print('AUC: train %.2f, test %.2f.' % (train_auc, test_auc))"
   ]
  },
  {
   "cell_type": "code",
   "execution_count": 43,
   "metadata": {
    "collapsed": false
   },
   "outputs": [],
   "source": [
    "item_vectors = movielens['item_features'] * model.item_embeddings"
   ]
  },
  {
   "cell_type": "code",
   "execution_count": 52,
   "metadata": {
    "collapsed": false
   },
   "outputs": [
    {
     "data": {
      "text/plain": [
       "True"
      ]
     },
     "execution_count": 52,
     "metadata": {},
     "output_type": "execute_result"
    }
   ],
   "source": [
    "from annoy import AnnoyIndex\n",
    "f = 32\n",
    "t = AnnoyIndex(f)  # Length of item vector that will be indexed\n",
    "for i in xrange(item_vectors.shape[0]):\n",
    "    v = item_vectors[i]\n",
    "    t.add_item(i, v)\n",
    "\n",
    "t.build(32) # 5 trees\n",
    "t.save('test.ann')"
   ]
  },
  {
   "cell_type": "code",
   "execution_count": 58,
   "metadata": {
    "collapsed": false
   },
   "outputs": [],
   "source": [
    "def nearest_movies(movie_id, index, n=10):\n",
    "    nn = index.get_nns_by_item(movie_id, 10)\n",
    "    print('Closest to %s : \\n' % movielens['item_labels'][movie_id])\n",
    "    titles = [movielens['item_labels'][i] for i in nn]\n",
    "    print(\"\\n\".join(titles))"
   ]
  },
  {
   "cell_type": "code",
   "execution_count": 59,
   "metadata": {
    "collapsed": false
   },
   "outputs": [
    {
     "name": "stdout",
     "output_type": "stream",
     "text": [
      "Closest to Nightmare Before Christmas, The (1993) : \n",
      "\n",
      "Nightmare Before Christmas, The (1993)\n",
      "Beauty and the Beast (1991)\n",
      "Fantasia (1940)\n",
      "Heavy Metal (1981)\n",
      "E.T. the Extra-Terrestrial (1982)\n",
      "Aladdin (1992)\n",
      "Raiders of the Lost Ark (1981)\n",
      "Lion King, The (1994)\n",
      "Princess Bride, The (1987)\n",
      "Monty Python and the Holy Grail (1974)\n"
     ]
    }
   ],
   "source": [
    "nearest_movies(90, t)"
   ]
  },
  {
   "cell_type": "code",
   "execution_count": 61,
   "metadata": {
    "collapsed": true
   },
   "outputs": [],
   "source": [
    "\"\"\"\n",
    "Use a ball tree to find vectors maximising inner product\n",
    "with a query efficiently.\n",
    "Based on P. Ram & A. Gray, Maximum Inner-Product Search\n",
    "using Tree Data-Structures, 2012.\n",
    "\n",
    "From https://github.com/gamboviol/miptree/blob/master/mip_tree.py\n",
    "\"\"\"\n",
    "\n",
    "import random\n",
    "import numpy as np\n",
    "from operator import itemgetter\n",
    "\n",
    "def d2(S,x):\n",
    "    D = S - np.tile(x,(len(S),1))\n",
    "    return sum((D*D).T)\n",
    "\n",
    "class Node(object):\n",
    "    \n",
    "    def __init__(self,S,indices):\n",
    "        self.S = indices\n",
    "        self.mu = np.mean(S[indices],axis=0)\n",
    "        self.R = max(d2(S[indices],self.mu))**0.5\n",
    "        self.left = None\n",
    "        self.right = None\n",
    "\n",
    "    def dump(self,char,level):\n",
    "        for x in self.S:\n",
    "            print '{0}{1}:{2}'.format(' '*level,char,x)\n",
    "        if self.left:\n",
    "            self.left.dump('L',level+1)\n",
    "        if self.right:\n",
    "            self.right.dump('R',level+1)\n",
    "\n",
    "    def get_ordering(self,indices):\n",
    "        if self.left and self.right:\n",
    "            self.left.get_ordering(indices)\n",
    "            self.right.get_ordering(indices)\n",
    "        else:\n",
    "            indices.extend(self.S)\n",
    "\n",
    "    def set_ordering(self,index_map):\n",
    "        self.S = [index_map[ix] for ix in self.S]\n",
    "        if self.left and self.right:\n",
    "            self.left.set_ordering(index_map)\n",
    "            self.right.set_ordering(index_map)\n",
    "\n",
    "    def scan(self,vecs,q):\n",
    "        \"\"\"compute dot products for all the vectors\n",
    "           indexed by this node\"\"\"\n",
    "        d = [(ix,q.dot(vecs[ix])) for ix in self.S]\n",
    "        return d\n",
    "\n",
    "class Query(object):\n",
    "\n",
    "    def __init__(self,q,k):\n",
    "        self.q = q\n",
    "        self.norm = sum(q**2)**0.5\n",
    "        self.l = -np.inf\n",
    "        self.k = k\n",
    "        self.nn = []\n",
    "        self.scanned = 0\n",
    "\n",
    "    def dot(self,v):\n",
    "        return self.q.dot(v)\n",
    "\n",
    "    def update(self,d):\n",
    "        self.scanned += len(d)\n",
    "        self.nn.extend(d)\n",
    "        self.nn.sort(key=itemgetter(1),reverse=True)\n",
    "        self.nn = self.nn[:self.k]\n",
    "        self.l = self.nn[-1][1]             \n",
    "    \n",
    "class MIPTree(object):\n",
    "    \"\"\"Maximum Inner Product Ball Tree\"\"\"\n",
    "\n",
    "    def __init__(self,S,N0=20,reorder=False):\n",
    "        \"\"\"Construct a tree from a dataset\n",
    "        S        numpy array of data vectors\n",
    "        N0       the maximum size of each leaf node\n",
    "        reorder  if True reorder the rows of S to optimise match time,\n",
    "                 the reordered row indices will be stored in the indices field\n",
    "        Reordering ensures that data is arranged serially in each leaf node\n",
    "        which should reduce memory access time - you are only likely to see\n",
    "        a benefit for very large data arrays.\n",
    "        \"\"\"\n",
    "        self.N0 = N0\n",
    "        self.root = Node(S,np.arange(len(S)))\n",
    "        self.build(S,self.root)\n",
    "        if reorder:\n",
    "            self.indices = self.get_ordering()\n",
    "            # now map these to dense range\n",
    "            index_map = dict((ix,i) for i,ix in enumerate(self.indices))\n",
    "            self.set_ordering(index_map)\n",
    "            # indices in each leaf node are arranged serially, reorder the data to match\n",
    "            S.data = S[self.indices].data\n",
    "        self.S = S\n",
    "\n",
    "    def match(self,query,k):\n",
    "        \"\"\"Search the tree for vectors maximising inner product with query\n",
    "        query  the query vector\n",
    "        k      number of best matches to return\n",
    "        Returns the matches found as a list of pairs (index into S, inner product),\n",
    "        and the number of vectors for which the inner product had to be computed.\n",
    "        \"\"\"\n",
    "        q = Query(query,k)\n",
    "        self.search(q,self.root)\n",
    "        return q.nn,q.scanned\n",
    "\n",
    "    def dump(self):\n",
    "        \"\"\"Print a primitive visualization of the tree\"\"\"\n",
    "        self.root.dump('',0)\n",
    "\n",
    "    def make_split(self,S):\n",
    "        x = random.choice(S)\n",
    "        A = S[np.argmax(d2(S,x))]\n",
    "        d2A = d2(S,A)\n",
    "        B = S[np.argmax(d2A)]\n",
    "        dd = d2A - d2(S,B)\n",
    "        return A,B,dd\n",
    "\n",
    "    def build(self,S,node):\n",
    "        if len(node.S) > self.N0:\n",
    "            A,B,dd = self.make_split(S[node.S])\n",
    "            node.left = Node(S,node.S[dd<=0])\n",
    "            node.right = Node(S,node.S[dd>0])\n",
    "            self.build(S,node.left)\n",
    "            self.build(S,node.right)\n",
    "\n",
    "    def mip(self,q,node):\n",
    "        return q.dot(node.mu) + q.norm*node.R\n",
    "\n",
    "    def search(self,q,node):\n",
    "        if q.l < self.mip(q,node):\n",
    "            if node.left is None and node.right is None:\n",
    "                d = node.scan(self.S,q)\n",
    "                q.update(d)\n",
    "            else:\n",
    "                left = self.mip(q,node.left)\n",
    "                right = self.mip(q,node.right)\n",
    "                if q.l < left or q.l < right:\n",
    "                    if left < right:\n",
    "                        self.search(q,node.right)\n",
    "                        if q.l < left:\n",
    "                            self.search(q,node.left)\n",
    "                    else:\n",
    "                        self.search(q,node.left)\n",
    "                        if q.l < right:\n",
    "                            self.search(q,node.right)\n",
    "\n",
    "    def get_ordering(self):\n",
    "        indices = []\n",
    "        self.root.get_ordering(indices)\n",
    "        return indices\n",
    "\n",
    "    def set_ordering(self,index_map):\n",
    "        self.root.set_ordering(index_map)"
   ]
  },
  {
   "cell_type": "code",
   "execution_count": 65,
   "metadata": {
    "collapsed": false
   },
   "outputs": [
    {
     "name": "stderr",
     "output_type": "stream",
     "text": [
      "/home/ubuntu/anaconda/lib/python2.7/site-packages/ipykernel/__main__.py:96: DeprecationWarning: Assigning the 'data' attribute is an inherently unsafe operation and will be removed in the future.\n"
     ]
    }
   ],
   "source": [
    "tree = MIPTree(item_vectors,N0=20,reorder=True)"
   ]
  },
  {
   "cell_type": "code",
   "execution_count": 70,
   "metadata": {
    "collapsed": false
   },
   "outputs": [],
   "source": [
    "user_vector = model.user_embeddings[0].shape"
   ]
  },
  {
   "cell_type": "code",
   "execution_count": 68,
   "metadata": {
    "collapsed": false
   },
   "outputs": [],
   "source": [
    "nn, scanned = tree.match(user_vector, 10)"
   ]
  },
  {
   "cell_type": "code",
   "execution_count": 73,
   "metadata": {
    "collapsed": false
   },
   "outputs": [],
   "source": [
    "def approx_product_search(user_id, tree, n=10):\n",
    "    user_vector = model.user_embeddings[user_id]\n",
    "    nn, scanned = tree.match(user_vector, n)\n",
    "    print('Approxiamtely recommended for user id %s : \\n' % str(user_id))\n",
    "    titles = [movielens['item_labels'][i[0]] for i in nn]\n",
    "    print(\"\\n\".join(titles))"
   ]
  },
  {
   "cell_type": "code",
   "execution_count": 76,
   "metadata": {
    "collapsed": false
   },
   "outputs": [
    {
     "name": "stdout",
     "output_type": "stream",
     "text": [
      "Approxiamtely recommended for user id 32 : \n",
      "\n",
      "Little Big League (1994)\n",
      "Tie Me Up! Tie Me Down! (1990)\n",
      "Boys (1996)\n",
      "Gaslight (1944)\n",
      "Fathers' Day (1997)\n",
      "Seven (Se7en) (1995)\n",
      "8 1/2 (1963)\n",
      "Home for the Holidays (1995)\n",
      "Juror, The (1996)\n",
      "Crossfire (1947)\n"
     ]
    }
   ],
   "source": [
    "approx_product_search(32, tree, n=10)"
   ]
  },
  {
   "cell_type": "code",
   "execution_count": null,
   "metadata": {
    "collapsed": true
   },
   "outputs": [],
   "source": []
  }
 ],
 "metadata": {
  "kernelspec": {
   "display_name": "Python 2",
   "language": "python",
   "name": "python2"
  },
  "language_info": {
   "codemirror_mode": {
    "name": "ipython",
    "version": 2
   },
   "file_extension": ".py",
   "mimetype": "text/x-python",
   "name": "python",
   "nbconvert_exporter": "python",
   "pygments_lexer": "ipython2",
   "version": "2.7.12"
  }
 },
 "nbformat": 4,
 "nbformat_minor": 1
}
